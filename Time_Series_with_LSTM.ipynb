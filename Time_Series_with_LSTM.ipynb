{
  "nbformat": 4,
  "nbformat_minor": 0,
  "metadata": {
    "colab": {
      "provenance": []
    },
    "kernelspec": {
      "name": "python3",
      "display_name": "Python 3"
    },
    "language_info": {
      "name": "python"
    }
  },
  "cells": [
    {
      "cell_type": "code",
      "execution_count": 25,
      "metadata": {
        "id": "mzzlkwYnO16I"
      },
      "outputs": [],
      "source": [
        "import numpy as np\n",
        "import pandas as pd\n",
        "import matplotlib.pyplot as plt\n",
        "import math\n",
        "from keras.models import Sequential\n",
        "from keras.layers import Dense\n",
        "from keras.layers import LSTM\n",
        "from sklearn.preprocessing import MinMaxScaler\n",
        "from sklearn.metrics import mean_squared_error\n",
        "import warnings\n",
        "warnings.filterwarnings('ignore')\n",
        "np.random.seed(7)"
      ]
    },
    {
      "cell_type": "code",
      "source": [
        "df=pd.read_csv('air-passenger.csv')\n",
        "dataset = df['#Passengers'].values\n",
        "dataset = dataset.astype('float32')\n",
        "dataset"
      ],
      "metadata": {
        "colab": {
          "base_uri": "https://localhost:8080/"
        },
        "id": "4-UuuGE6PWTA",
        "outputId": "f2a1f1b0-d748-449d-faba-3bbebe55e8d5"
      },
      "execution_count": 7,
      "outputs": [
        {
          "output_type": "execute_result",
          "data": {
            "text/plain": [
              "array([112., 118., 132., 129., 121., 135., 148., 148., 136., 119., 104.,\n",
              "       118., 115., 126., 141., 135., 125., 149., 170., 170., 158., 133.,\n",
              "       114., 140., 145., 150., 178., 163., 172., 178., 199., 199., 184.,\n",
              "       162., 146., 166., 171., 180., 193., 181., 183., 218., 230., 242.,\n",
              "       209., 191., 172., 194., 196., 196., 236., 235., 229., 243., 264.,\n",
              "       272., 237., 211., 180., 201., 204., 188., 235., 227., 234., 264.,\n",
              "       302., 293., 259., 229., 203., 229., 242., 233., 267., 269., 270.,\n",
              "       315., 364., 347., 312., 274., 237., 278., 284., 277., 317., 313.,\n",
              "       318., 374., 413., 405., 355., 306., 271., 306., 315., 301., 356.,\n",
              "       348., 355., 422., 465., 467., 404., 347., 305., 336., 340., 318.,\n",
              "       362., 348., 363., 435., 491., 505., 404., 359., 310., 337., 360.,\n",
              "       342., 406., 396., 420., 472., 548., 559., 463., 407., 362., 405.,\n",
              "       417., 391., 419., 461., 472., 535., 622., 606., 508., 461., 390.,\n",
              "       432.], dtype=float32)"
            ]
          },
          "metadata": {},
          "execution_count": 7
        }
      ]
    },
    {
      "cell_type": "markdown",
      "source": [
        "***Performed the Min Max Scaling using the sklearn MinMaxScaler***\n",
        "\n"
      ],
      "metadata": {
        "id": "jYM7_ohCQDGL"
      }
    },
    {
      "cell_type": "code",
      "source": [
        "scaler=MinMaxScaler(feature_range=(0,1))\n",
        "dataset=scaler.fit_transform(dataset.reshape(-1, 1))"
      ],
      "metadata": {
        "id": "DD9ArtkePe-z"
      },
      "execution_count": 9,
      "outputs": []
    },
    {
      "cell_type": "code",
      "source": [
        "  train_size=int(len(dataset)*0.67)\n",
        "  test_size=len(dataset)-train_size\n",
        "  train,test=dataset[0:train_size,:],dataset[train_size:len(dataset):]"
      ],
      "metadata": {
        "id": "pYTYN2tZP4FD"
      },
      "execution_count": 10,
      "outputs": []
    },
    {
      "cell_type": "code",
      "source": [
        "print(len(train),len(test))"
      ],
      "metadata": {
        "colab": {
          "base_uri": "https://localhost:8080/"
        },
        "id": "lOVMA_COQcDc",
        "outputId": "67fa9f37-6342-4cb1-9fec-dc35f3bc5c58"
      },
      "execution_count": 12,
      "outputs": [
        {
          "output_type": "stream",
          "name": "stdout",
          "text": [
            "96 48\n"
          ]
        }
      ]
    },
    {
      "cell_type": "code",
      "source": [
        "def createDataset(dataset,look_back=1):\n",
        "  datax,datay=[],[]\n",
        "  for i in range(len(dataset)-look_back-1):\n",
        "    a=dataset[i:(i+look_back),0]\n",
        "    datax.append(a)\n",
        "    datay.append(dataset[i+look_back,0])\n",
        "  return np.array(datax),np.array(datay)"
      ],
      "metadata": {
        "id": "pIp6MAMqQe3s"
      },
      "execution_count": 14,
      "outputs": []
    },
    {
      "cell_type": "code",
      "source": [
        "look_back=1\n",
        "trainX,trainY=createDataset(train,look_back)\n",
        "testX,testY=createDataset(test,look_back)\n",
        "trainX=np.reshape(trainX,(trainX.shape[0],1,trainX.shape[1]))\n",
        "testX=np.reshape(testX,(testX.shape[0],1,testX.shape[1]))\n"
      ],
      "metadata": {
        "id": "NfNMF0DLQ76N"
      },
      "execution_count": 15,
      "outputs": []
    },
    {
      "cell_type": "code",
      "source": [
        "model=Sequential()\n",
        "model.add(LSTM(4,input_shape=(1,look_back)))\n",
        "model.add(Dense(1))\n",
        "model.compile(loss='mean_squared_error',optimizer='adam')\n",
        "model.fit(trainX,trainY,epochs=100,batch_size=1,verbose=2)"
      ],
      "metadata": {
        "colab": {
          "base_uri": "https://localhost:8080/"
        },
        "id": "RXDUio57Rbz-",
        "outputId": "a8d18a76-1ed8-41e6-fdca-56b10fbbc4c7"
      },
      "execution_count": 16,
      "outputs": [
        {
          "output_type": "stream",
          "name": "stdout",
          "text": [
            "Epoch 1/100\n",
            "94/94 - 2s - 23ms/step - loss: 0.0399\n",
            "Epoch 2/100\n",
            "94/94 - 0s - 2ms/step - loss: 0.0188\n",
            "Epoch 3/100\n",
            "94/94 - 0s - 3ms/step - loss: 0.0151\n",
            "Epoch 4/100\n",
            "94/94 - 0s - 2ms/step - loss: 0.0139\n",
            "Epoch 5/100\n",
            "94/94 - 0s - 2ms/step - loss: 0.0129\n",
            "Epoch 6/100\n",
            "94/94 - 0s - 2ms/step - loss: 0.0120\n",
            "Epoch 7/100\n",
            "94/94 - 0s - 3ms/step - loss: 0.0110\n",
            "Epoch 8/100\n",
            "94/94 - 0s - 2ms/step - loss: 0.0101\n",
            "Epoch 9/100\n",
            "94/94 - 0s - 3ms/step - loss: 0.0091\n",
            "Epoch 10/100\n",
            "94/94 - 0s - 3ms/step - loss: 0.0081\n",
            "Epoch 11/100\n",
            "94/94 - 0s - 3ms/step - loss: 0.0072\n",
            "Epoch 12/100\n",
            "94/94 - 0s - 3ms/step - loss: 0.0066\n",
            "Epoch 13/100\n",
            "94/94 - 0s - 3ms/step - loss: 0.0057\n",
            "Epoch 14/100\n",
            "94/94 - 0s - 2ms/step - loss: 0.0051\n",
            "Epoch 15/100\n",
            "94/94 - 0s - 2ms/step - loss: 0.0044\n",
            "Epoch 16/100\n",
            "94/94 - 0s - 3ms/step - loss: 0.0039\n",
            "Epoch 17/100\n",
            "94/94 - 0s - 3ms/step - loss: 0.0034\n",
            "Epoch 18/100\n",
            "94/94 - 0s - 3ms/step - loss: 0.0031\n",
            "Epoch 19/100\n",
            "94/94 - 0s - 3ms/step - loss: 0.0028\n",
            "Epoch 20/100\n",
            "94/94 - 0s - 2ms/step - loss: 0.0025\n",
            "Epoch 21/100\n",
            "94/94 - 0s - 3ms/step - loss: 0.0024\n",
            "Epoch 22/100\n",
            "94/94 - 0s - 3ms/step - loss: 0.0023\n",
            "Epoch 23/100\n",
            "94/94 - 0s - 3ms/step - loss: 0.0023\n",
            "Epoch 24/100\n",
            "94/94 - 0s - 3ms/step - loss: 0.0021\n",
            "Epoch 25/100\n",
            "94/94 - 0s - 5ms/step - loss: 0.0021\n",
            "Epoch 26/100\n",
            "94/94 - 0s - 5ms/step - loss: 0.0021\n",
            "Epoch 27/100\n",
            "94/94 - 0s - 2ms/step - loss: 0.0021\n",
            "Epoch 28/100\n",
            "94/94 - 0s - 2ms/step - loss: 0.0020\n",
            "Epoch 29/100\n",
            "94/94 - 0s - 4ms/step - loss: 0.0021\n",
            "Epoch 30/100\n",
            "94/94 - 0s - 3ms/step - loss: 0.0021\n",
            "Epoch 31/100\n",
            "94/94 - 0s - 3ms/step - loss: 0.0021\n",
            "Epoch 32/100\n",
            "94/94 - 0s - 3ms/step - loss: 0.0020\n",
            "Epoch 33/100\n",
            "94/94 - 0s - 3ms/step - loss: 0.0021\n",
            "Epoch 34/100\n",
            "94/94 - 0s - 3ms/step - loss: 0.0021\n",
            "Epoch 35/100\n",
            "94/94 - 0s - 3ms/step - loss: 0.0020\n",
            "Epoch 36/100\n",
            "94/94 - 0s - 3ms/step - loss: 0.0021\n",
            "Epoch 37/100\n",
            "94/94 - 0s - 3ms/step - loss: 0.0021\n",
            "Epoch 38/100\n",
            "94/94 - 0s - 3ms/step - loss: 0.0021\n",
            "Epoch 39/100\n",
            "94/94 - 0s - 2ms/step - loss: 0.0021\n",
            "Epoch 40/100\n",
            "94/94 - 0s - 3ms/step - loss: 0.0021\n",
            "Epoch 41/100\n",
            "94/94 - 0s - 3ms/step - loss: 0.0020\n",
            "Epoch 42/100\n",
            "94/94 - 0s - 3ms/step - loss: 0.0021\n",
            "Epoch 43/100\n",
            "94/94 - 0s - 3ms/step - loss: 0.0021\n",
            "Epoch 44/100\n",
            "94/94 - 0s - 2ms/step - loss: 0.0020\n",
            "Epoch 45/100\n",
            "94/94 - 0s - 2ms/step - loss: 0.0021\n",
            "Epoch 46/100\n",
            "94/94 - 0s - 3ms/step - loss: 0.0020\n",
            "Epoch 47/100\n",
            "94/94 - 0s - 3ms/step - loss: 0.0021\n",
            "Epoch 48/100\n",
            "94/94 - 0s - 2ms/step - loss: 0.0021\n",
            "Epoch 49/100\n",
            "94/94 - 0s - 3ms/step - loss: 0.0021\n",
            "Epoch 50/100\n",
            "94/94 - 0s - 3ms/step - loss: 0.0021\n",
            "Epoch 51/100\n",
            "94/94 - 0s - 3ms/step - loss: 0.0020\n",
            "Epoch 52/100\n",
            "94/94 - 0s - 2ms/step - loss: 0.0020\n",
            "Epoch 53/100\n",
            "94/94 - 0s - 3ms/step - loss: 0.0021\n",
            "Epoch 54/100\n",
            "94/94 - 0s - 3ms/step - loss: 0.0020\n",
            "Epoch 55/100\n",
            "94/94 - 0s - 3ms/step - loss: 0.0020\n",
            "Epoch 56/100\n",
            "94/94 - 0s - 3ms/step - loss: 0.0020\n",
            "Epoch 57/100\n",
            "94/94 - 0s - 2ms/step - loss: 0.0020\n",
            "Epoch 58/100\n",
            "94/94 - 0s - 3ms/step - loss: 0.0021\n",
            "Epoch 59/100\n",
            "94/94 - 0s - 3ms/step - loss: 0.0020\n",
            "Epoch 60/100\n",
            "94/94 - 0s - 2ms/step - loss: 0.0021\n",
            "Epoch 61/100\n",
            "94/94 - 0s - 3ms/step - loss: 0.0021\n",
            "Epoch 62/100\n",
            "94/94 - 0s - 2ms/step - loss: 0.0020\n",
            "Epoch 63/100\n",
            "94/94 - 0s - 2ms/step - loss: 0.0021\n",
            "Epoch 64/100\n",
            "94/94 - 0s - 3ms/step - loss: 0.0020\n",
            "Epoch 65/100\n",
            "94/94 - 0s - 2ms/step - loss: 0.0021\n",
            "Epoch 66/100\n",
            "94/94 - 0s - 3ms/step - loss: 0.0020\n",
            "Epoch 67/100\n",
            "94/94 - 0s - 3ms/step - loss: 0.0021\n",
            "Epoch 68/100\n",
            "94/94 - 0s - 3ms/step - loss: 0.0022\n",
            "Epoch 69/100\n",
            "94/94 - 0s - 3ms/step - loss: 0.0020\n",
            "Epoch 70/100\n",
            "94/94 - 0s - 3ms/step - loss: 0.0022\n",
            "Epoch 71/100\n",
            "94/94 - 0s - 2ms/step - loss: 0.0020\n",
            "Epoch 72/100\n",
            "94/94 - 0s - 3ms/step - loss: 0.0021\n",
            "Epoch 73/100\n",
            "94/94 - 0s - 4ms/step - loss: 0.0020\n",
            "Epoch 74/100\n",
            "94/94 - 0s - 5ms/step - loss: 0.0021\n",
            "Epoch 75/100\n",
            "94/94 - 1s - 8ms/step - loss: 0.0020\n",
            "Epoch 76/100\n",
            "94/94 - 0s - 4ms/step - loss: 0.0020\n",
            "Epoch 77/100\n",
            "94/94 - 0s - 3ms/step - loss: 0.0021\n",
            "Epoch 78/100\n",
            "94/94 - 0s - 3ms/step - loss: 0.0020\n",
            "Epoch 79/100\n",
            "94/94 - 1s - 5ms/step - loss: 0.0020\n",
            "Epoch 80/100\n",
            "94/94 - 0s - 2ms/step - loss: 0.0021\n",
            "Epoch 81/100\n",
            "94/94 - 0s - 2ms/step - loss: 0.0021\n",
            "Epoch 82/100\n",
            "94/94 - 0s - 2ms/step - loss: 0.0021\n",
            "Epoch 83/100\n",
            "94/94 - 0s - 2ms/step - loss: 0.0020\n",
            "Epoch 84/100\n",
            "94/94 - 0s - 3ms/step - loss: 0.0020\n",
            "Epoch 85/100\n",
            "94/94 - 0s - 2ms/step - loss: 0.0020\n",
            "Epoch 86/100\n",
            "94/94 - 0s - 3ms/step - loss: 0.0021\n",
            "Epoch 87/100\n",
            "94/94 - 1s - 6ms/step - loss: 0.0020\n",
            "Epoch 88/100\n",
            "94/94 - 0s - 5ms/step - loss: 0.0021\n",
            "Epoch 89/100\n",
            "94/94 - 0s - 4ms/step - loss: 0.0020\n",
            "Epoch 90/100\n",
            "94/94 - 0s - 2ms/step - loss: 0.0021\n",
            "Epoch 91/100\n",
            "94/94 - 0s - 4ms/step - loss: 0.0021\n",
            "Epoch 92/100\n",
            "94/94 - 0s - 5ms/step - loss: 0.0021\n",
            "Epoch 93/100\n",
            "94/94 - 0s - 4ms/step - loss: 0.0020\n",
            "Epoch 94/100\n",
            "94/94 - 0s - 2ms/step - loss: 0.0020\n",
            "Epoch 95/100\n",
            "94/94 - 0s - 3ms/step - loss: 0.0021\n",
            "Epoch 96/100\n",
            "94/94 - 0s - 3ms/step - loss: 0.0020\n",
            "Epoch 97/100\n",
            "94/94 - 0s - 2ms/step - loss: 0.0020\n",
            "Epoch 98/100\n",
            "94/94 - 0s - 4ms/step - loss: 0.0021\n",
            "Epoch 99/100\n",
            "94/94 - 0s - 2ms/step - loss: 0.0020\n",
            "Epoch 100/100\n",
            "94/94 - 0s - 4ms/step - loss: 0.0020\n"
          ]
        },
        {
          "output_type": "execute_result",
          "data": {
            "text/plain": [
              "<keras.src.callbacks.history.History at 0x7896a53a4e90>"
            ]
          },
          "metadata": {},
          "execution_count": 16
        }
      ]
    },
    {
      "cell_type": "code",
      "source": [
        "trainPredict=model.predict(trainX)\n",
        "testPredict=model.predict(testX)\n",
        "trainPredict=scaler.inverse_transform(trainPredict)\n",
        "trainY=scaler.inverse_transform([trainY])\n",
        "testPredict=scaler.inverse_transform(testPredict)\n",
        "testY=scaler.inverse_transform([testY])"
      ],
      "metadata": {
        "colab": {
          "base_uri": "https://localhost:8080/"
        },
        "id": "7RlQH8asRv8f",
        "outputId": "60239d8a-9a9e-4b26-f173-53128d74b4cf"
      },
      "execution_count": 17,
      "outputs": [
        {
          "output_type": "stream",
          "name": "stdout",
          "text": [
            "\u001b[1m3/3\u001b[0m \u001b[32m━━━━━━━━━━━━━━━━━━━━\u001b[0m\u001b[37m\u001b[0m \u001b[1m1s\u001b[0m 144ms/step\n",
            "\u001b[1m2/2\u001b[0m \u001b[32m━━━━━━━━━━━━━━━━━━━━\u001b[0m\u001b[37m\u001b[0m \u001b[1m0s\u001b[0m 19ms/step\n"
          ]
        }
      ]
    },
    {
      "cell_type": "code",
      "source": [
        "trainScore=math.sqrt(mean_squared_error(trainY[0],trainPredict[:,0]))\n",
        "testScore=math.sqrt(mean_squared_error(testY[0],testPredict[:,0]))\n",
        "print(trainScore,testScore)"
      ],
      "metadata": {
        "colab": {
          "base_uri": "https://localhost:8080/"
        },
        "id": "iiGn5_aBSC02",
        "outputId": "7d563ef3-64a6-400d-fc38-31c39213b10a"
      },
      "execution_count": 18,
      "outputs": [
        {
          "output_type": "stream",
          "name": "stdout",
          "text": [
            "22.889062774067376 48.01167782784449\n"
          ]
        }
      ]
    },
    {
      "cell_type": "code",
      "source": [
        "trainPredictPlot = np.empty_like(dataset)\n",
        "trainPredictPlot[:, :] = np.nan\n",
        "trainPredictPlot[look_back:len(trainPredict)+look_back, :] = trainPredict"
      ],
      "metadata": {
        "id": "q61IBV8XSROd"
      },
      "execution_count": 21,
      "outputs": []
    },
    {
      "cell_type": "code",
      "source": [
        "testPredictPlot = np.empty_like(dataset)\n",
        "testPredictPlot[:, :] = np.nan\n",
        "testPredictPlot[len(trainPredict)+(look_back*2)+1:len(dataset)-1, :] = testPredict"
      ],
      "metadata": {
        "id": "mHtlDUpoSZvZ"
      },
      "execution_count": 23,
      "outputs": []
    },
    {
      "cell_type": "code",
      "source": [
        "plt.plot(scaler.inverse_transform(dataset))\n",
        "plt.plot(trainPredictPlot)\n",
        "plt.plot(testPredictPlot)\n",
        "plt.show()"
      ],
      "metadata": {
        "colab": {
          "base_uri": "https://localhost:8080/",
          "height": 430
        },
        "id": "3KYER1jqSgcX",
        "outputId": "570bb832-4e55-4277-fd14-2204145952ef"
      },
      "execution_count": 24,
      "outputs": [
        {
          "output_type": "display_data",
          "data": {
            "text/plain": [
              "<Figure size 640x480 with 1 Axes>"
            ],
            "image/png": "[encoded data removed]"
          },
          "metadata": {}
        }
      ]
    },
    {
      "cell_type": "code",
      "source": [],
      "metadata": {
        "id": "oGeW1dhFSrno"
      },
      "execution_count": null,
      "outputs": []
    }
  ]
}